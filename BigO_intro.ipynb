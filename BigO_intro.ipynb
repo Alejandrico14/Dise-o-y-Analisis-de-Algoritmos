{
  "nbformat": 4,
  "nbformat_minor": 0,
  "metadata": {
    "colab": {
      "name": "BigO_intro.ipynb",
      "provenance": [],
      "authorship_tag": "ABX9TyNZYshEm9jyPuIPZZ2Fz8xZ",
      "include_colab_link": true
    },
    "kernelspec": {
      "name": "python3",
      "display_name": "Python 3"
    },
    "language_info": {
      "name": "python"
    }
  },
  "cells": [
    {
      "cell_type": "markdown",
      "metadata": {
        "id": "view-in-github",
        "colab_type": "text"
      },
      "source": [
        "<a href=\"https://colab.research.google.com/github/Alejandrico14/Dise-o-y-Analisis-de-Algoritmos/blob/main/BigO_intro.ipynb\" target=\"_parent\"><img src=\"https://colab.research.google.com/assets/colab-badge.svg\" alt=\"Open In Colab\"/></a>"
      ]
    },
    {
      "cell_type": "code",
      "metadata": {
        "id": "LgsWwsPWaqPt"
      },
      "source": [
        "def suma(num):\n",
        "    suma = 0\n",
        "    for i in range(num +1 ):\n",
        "        suma += i\n",
        "    print(suma)"
      ],
      "execution_count": null,
      "outputs": []
    },
    {
      "cell_type": "code",
      "metadata": {
        "colab": {
          "base_uri": "https://localhost:8080/"
        },
        "id": "fVKx4DOgeS1e",
        "outputId": "a560f490-46bf-4e51-bea0-150e7c693cfa"
      },
      "source": [
        "import time\n",
        "time.time()\n",
        "marca = time.time()\n",
        "\n",
        "n = 3 \n",
        "suma(n)\n",
        "marca2 = time.time()\n",
        "\n",
        "print(marca2 - marca)"
      ],
      "execution_count": null,
      "outputs": [
        {
          "output_type": "stream",
          "name": "stdout",
          "text": [
            "6\n",
            "0.0001728534698486328\n"
          ]
        }
      ]
    },
    {
      "cell_type": "code",
      "metadata": {
        "id": "pdeLJKhSejM3"
      },
      "source": [
        "def sumaNumeros(n):\n",
        "    if (n == 0):\n",
        "        return 0\n",
        "    else: \n",
        "        return n+sumaNumeros(n-1)"
      ],
      "execution_count": null,
      "outputs": []
    },
    {
      "cell_type": "code",
      "metadata": {
        "colab": {
          "base_uri": "https://localhost:8080/"
        },
        "id": "tK9YTtJues96",
        "outputId": "fced0361-bb9d-4c45-c648-a5180eaffa00"
      },
      "source": [
        "n = 3\n",
        "sumaNumeros(n)"
      ],
      "execution_count": null,
      "outputs": [
        {
          "output_type": "execute_result",
          "data": {
            "text/plain": [
              "6"
            ]
          },
          "metadata": {},
          "execution_count": 11
        }
      ]
    },
    {
      "cell_type": "markdown",
      "metadata": {
        "id": "mq7Q47fIvA0k"
      },
      "source": [
        "ejercicio 2\n"
      ]
    },
    {
      "cell_type": "code",
      "metadata": {
        "colab": {
          "base_uri": "https://localhost:8080/"
        },
        "id": "tPE0ZtIPvAbq",
        "outputId": "4938ae98-42a4-4e49-b156-861bd9387d93"
      },
      "source": [
        "numeros = [1,2,3]\n",
        "def unaFuncionCualquiera(lista):\n",
        "  conteo = 0 \n",
        "  for numero1 in lista:\n",
        "    for numero2 in lista:\n",
        "      print(numero1, numero2)\n",
        "      conteo += 1\n",
        "  return conteo \n",
        "\n",
        "conteo = unaFuncionCualquiera(numeros)\n",
        "print(\"FInal\", conteo)\n"
      ],
      "execution_count": 4,
      "outputs": [
        {
          "output_type": "stream",
          "name": "stdout",
          "text": [
            "1 1\n",
            "1 2\n",
            "1 3\n",
            "2 1\n",
            "2 2\n",
            "2 3\n",
            "3 1\n",
            "3 2\n",
            "3 3\n",
            "FInal 9\n"
          ]
        }
      ]
    },
    {
      "cell_type": "markdown",
      "metadata": {
        "id": "v4gsvrFB9PMX"
      },
      "source": [
        "ejercicio 3"
      ]
    },
    {
      "cell_type": "code",
      "metadata": {
        "colab": {
          "base_uri": "https://localhost:8080/"
        },
        "id": "rDCjVG979R1f",
        "outputId": "56eea4d5-605e-46a0-fdc4-eff80aeb65d3"
      },
      "source": [
        "numeros=[1,2,3]\n",
        "def unaFuncionCualquiera(lista):\n",
        "  conteo = 0\n",
        "  suma = 0 \n",
        "  for num in lista:\n",
        "    suma +=  num\n",
        "  print(f\"La sumatoria de los numeros en la lista es = {suma}\")\n",
        "\n",
        "  for numero1 in lista:\n",
        "    for numero2 in lista:\n",
        "      print(numero1, numero2)\n",
        "      conteo += 1\n",
        "  return conteo\n",
        "conteo = unaFuncionCualquiera(numeros)"
      ],
      "execution_count": 9,
      "outputs": [
        {
          "output_type": "stream",
          "name": "stdout",
          "text": [
            "La sumatoria de los numeros en la lista es = 6\n",
            "1 1\n",
            "1 2\n",
            "1 3\n",
            "2 1\n",
            "2 2\n",
            "2 3\n",
            "3 1\n",
            "3 2\n",
            "3 3\n"
          ]
        }
      ]
    },
    {
      "cell_type": "markdown",
      "metadata": {
        "id": "0BSQtLsu9SPE"
      },
      "source": [
        "ejercicio 3.2"
      ]
    },
    {
      "cell_type": "code",
      "metadata": {
        "colab": {
          "base_uri": "https://localhost:8080/"
        },
        "id": "hG8DFTvL9U43",
        "outputId": "d8daeb2f-c1cb-49c5-8a1f-84089060b523"
      },
      "source": [
        "numeros = [1,2,3]\n",
        "numeros2 = [4,5,6,7,8]\n",
        "\n",
        "def unaFuncionCualquiera(lista, lista2):\n",
        "  conteo = 0\n",
        "  for numero1 in lista:\n",
        "    for numero2 in lista2:\n",
        "      print(numero1, numero2)\n",
        "      conteo += 1\n",
        "  return conteo\n",
        "\n",
        "conteo = unaFuncionCualquiera(numeros, numeros2)\n",
        "print(\"final\", conteo )"
      ],
      "execution_count": 10,
      "outputs": [
        {
          "output_type": "stream",
          "name": "stdout",
          "text": [
            "1 4\n",
            "1 5\n",
            "1 6\n",
            "1 7\n",
            "1 8\n",
            "2 4\n",
            "2 5\n",
            "2 6\n",
            "2 7\n",
            "2 8\n",
            "3 4\n",
            "3 5\n",
            "3 6\n",
            "3 7\n",
            "3 8\n",
            "final 15\n"
          ]
        }
      ]
    },
    {
      "cell_type": "markdown",
      "metadata": {
        "id": "bXkjA-PZ9M5P"
      },
      "source": [
        "ejercicio 4\n"
      ]
    },
    {
      "cell_type": "code",
      "metadata": {
        "colab": {
          "base_uri": "https://localhost:8080/"
        },
        "id": "7tKCsuU5yc7I",
        "outputId": "b6f34467-b777-44b8-b99d-878cde35f86a"
      },
      "source": [
        "def busqueda_lineal(lista ,val_a_buscar):\n",
        "  contador = 0  #0( 1 )\n",
        "  for x in range( len(lista) ):\n",
        "    contador += 1 # 0(n)\n",
        "    if lista [x] == val_a_buscar:\n",
        "      print(f\"Encontrado en la posición { x }\") # 0( 1 )\n",
        "      break\n",
        "  return contador\n",
        "# 0( 1 + n + 1) --> 0( 2 + n )\n",
        "numeros = [2,3,1,23, 8 ,24,25,10,100,35,8]\n",
        "comparaciones = busqueda_lineal(numeros, 10 )\n",
        "print(f\"{comparaciones} comparaciones\")"
      ],
      "execution_count": 3,
      "outputs": [
        {
          "output_type": "stream",
          "name": "stdout",
          "text": [
            "Encontrado en la posición 6\n",
            "7 comparaciones\n"
          ]
        }
      ]
    }
  ]
}