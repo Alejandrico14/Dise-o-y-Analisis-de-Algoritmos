{
  "nbformat": 4,
  "nbformat_minor": 0,
  "metadata": {
    "colab": {
      "name": "Clase_29/09/21.ipynb",
      "provenance": [],
      "authorship_tag": "ABX9TyPiPsgzq1N0HlcMv1y+aFV5",
      "include_colab_link": true
    },
    "kernelspec": {
      "name": "python3",
      "display_name": "Python 3"
    },
    "language_info": {
      "name": "python"
    }
  },
  "cells": [
    {
      "cell_type": "markdown",
      "metadata": {
        "id": "view-in-github",
        "colab_type": "text"
      },
      "source": [
        "<a href=\"https://colab.research.google.com/github/Alejandrico14/Dise-o-y-Analisis-de-Algoritmos/blob/main/Clase_29_09_21.ipynb\" target=\"_parent\"><img src=\"https://colab.research.google.com/assets/colab-badge.svg\" alt=\"Open In Colab\"/></a>"
      ]
    },
    {
      "cell_type": "code",
      "metadata": {
        "id": "j0nGk0_WhLEI"
      },
      "source": [
        "def reloj(): # O()     O()\n",
        "    minutos = int(0) # O(1*4)     O(1)\n",
        "    horas = int (0)# O(1*4)     O(1)\n",
        "\n",
        "    while(horas <=23 and minutos<=60): # O(0)     O(na)\n",
        "        hora = str(horas)# O( 2*1)     O(1* 1440)\n",
        "        minuto = str(minutos)# O(2 *1)     O(1*1440 )\n",
        "        hora_completa1 = hora.zfill(2)+\":\"+minuto.zfill(2)# O( 5 * 1 )     O( 1 )\n",
        "\n",
        "        minutos = minutos + 1 # O( 0 )     O( 1 * 1440)\n",
        "\n",
        "        if (minutos==60):# O(0)     O(na)\n",
        "            minutos=0 # O(0)     O(24)\n",
        "            horas = horas + 1# O(0)     O(24)\n",
        "            if (horas==24):# O(0)     O(na)\n",
        "                horas==0# O(0)     O(1)\n",
        "        franja.append(hora_completa1)\n",
        "\n",
        "\n",
        "\n",
        "def palindromo(): # O(19)    O(5782) \n",
        "    reloj() # O(17)    O(5764) \n",
        "    conteo = 0# O(1)    O(1) \n",
        "    for e in franja:# O(1)    O(n) \n",
        "        if e == e[::-1]:# O()    O(na) \n",
        "            print(str(e)+\" Es palindromo\")# O(0)    O(0) \n",
        "            conteo += 1 # O(0)    O(16) \n",
        "\n",
        "    print(f\"Hay {conteo} palindromos\")\n",
        "\n",
        "palindromo()\n",
        "# O(2)    O(17)  -----> 0( n+17)\n",
        "      "
      ],
      "execution_count": null,
      "outputs": []
    },
    {
      "cell_type": "code",
      "metadata": {
        "id": "Q9S6VcTDDiSv"
      },
      "source": [
        "public class Palíndromo {\n",
        "\n",
        "    /**\n",
        "     * @param args the command line arguments\n",
        "     */\n",
        "    public static void main(String[] args) { \n",
        "        int digito1=0; # O(4)     O()\n",
        "        int digito2=0;# O(4)     O()\n",
        "        int digito3=0;# O(4)     O()\n",
        "        int digito4=0; # O(4)     O()\n",
        "        \n",
        "        int cantidad=0; # O(4)     O()\n",
        "        \n",
        "       ArrayList<String> datos= new ArrayList<>();\n",
        "        \n",
        "        for(int p=0; p<2;p++){ # O(1)     O()\n",
        "            for(int k=0; k<10;k++){ # O(1)     O()\n",
        "                for(int j=0;j<6;j++){ # O(1)     O()\n",
        "                    for(int i=0; i<10;i++){ # O(1)     O()\n",
        "            \n",
        "                          //System.out.println(digito1+\"\"+digito2+\":\"+digito3+digito4);\n",
        "                          datos.add(digito1+\"\"+digito2+\":\"+digito3+digito4+\"\\n\");# O(2*10*6*10 = 1200* 6 * 2 = 14400)     O()\n",
        "                            digito4++; # O(1200)     O()\n",
        "                    }\n",
        "                digito4=0; # O(120)     O()\n",
        "                digito3++; # O(120)     O()\n",
        "       \n",
        "                }\n",
        "        digito3=0;# O(20)     O()\n",
        "        digito2++;# O(20)     O()\n",
        "            }\n",
        "           digito2=0;# O(2)     O()\n",
        "           digito1++;# O(2)     O()\n",
        "    }\n",
        "        \n",
        "            if(digito1==2){\n",
        "           for(int k=0; k<4;k++){\n",
        "                for(int j=0;j<6;j++){\n",
        "                    for(int i=0; i<10;i++){\n",
        "            \n",
        "                          //System.out.println(digito1+\"\"+digito2+\":\"+digito3+digito4);\n",
        "                          datos.add(digito1+\"\"+digito2+\":\"+digito3+digito4+\"\\n\");\n",
        "                            digito4++;\n",
        "                    }\n",
        "                digito4=0;\n",
        "                digito3++;\n",
        "       \n",
        "                }\n",
        "        digito3=0;\n",
        "        digito2++;\n",
        "            }\n",
        "            }\n",
        "            \n",
        "           //System.out.println(datos);\n",
        "           int conta=datos.size();\n",
        "           System.out.println(\"Los horarios que son palindromos en un rango de 0:00 a 23:59 son: \\n\");\n",
        "           for(int q=0; q<conta; q++){\n",
        "              String aux=datos.get(q);\n",
        "               //System.out.println(aux.charAt(4));\n",
        "              if(aux.charAt(0)==aux.charAt(4) && aux.charAt(1)== aux.charAt(3)){\n",
        "                System.out.println(datos.get(q));\n",
        "                cantidad++;\n",
        "              }\n",
        "              \n",
        "           }\n",
        "           System.out.println(\"La cantidad total de palíndromos es: \" + cantidad);\n",
        "        }\n",
        "    \n",
        "   }"
      ],
      "execution_count": null,
      "outputs": []
    }
  ]
}