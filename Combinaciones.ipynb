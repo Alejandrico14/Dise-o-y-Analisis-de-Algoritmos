{
  "nbformat": 4,
  "nbformat_minor": 0,
  "metadata": {
    "colab": {
      "name": "Combinaciones.ipynb",
      "provenance": [],
      "authorship_tag": "ABX9TyNQ35+bM1oKk1DndicqvPDu",
      "include_colab_link": true
    },
    "kernelspec": {
      "name": "python3",
      "display_name": "Python 3"
    },
    "language_info": {
      "name": "python"
    }
  },
  "cells": [
    {
      "cell_type": "markdown",
      "metadata": {
        "id": "view-in-github",
        "colab_type": "text"
      },
      "source": [
        "<a href=\"https://colab.research.google.com/github/Alejandrico14/Dise-o-y-Analisis-de-Algoritmos/blob/main/Combinaciones.ipynb\" target=\"_parent\"><img src=\"https://colab.research.google.com/assets/colab-badge.svg\" alt=\"Open In Colab\"/></a>"
      ]
    },
    {
      "cell_type": "code",
      "metadata": {
        "colab": {
          "base_uri": "https://localhost:8080/"
        },
        "id": "As8TdYYlKulE",
        "outputId": "672c52ea-fe54-4243-bc7d-7636712a9351"
      },
      "source": [
        "numeros = [1,2,3]\n",
        "def comboy(lista):\n",
        "  conteo = 0 \n",
        "  for numero1 in lista:\n",
        "    for numero2 in lista:\n",
        "      print(numero1, numero2)\n",
        "      conteo += 1\n",
        "  return conteo \n",
        "\n",
        "conteo = comboy(numeros)\n",
        "print(\"Numero total de combinaciones\", conteo)"
      ],
      "execution_count": 1,
      "outputs": [
        {
          "output_type": "stream",
          "name": "stdout",
          "text": [
            "1 1\n",
            "1 2\n",
            "1 3\n",
            "2 1\n",
            "2 2\n",
            "2 3\n",
            "3 1\n",
            "3 2\n",
            "3 3\n",
            "Numero total de combinaciones 9\n"
          ]
        }
      ]
    }
  ]
}