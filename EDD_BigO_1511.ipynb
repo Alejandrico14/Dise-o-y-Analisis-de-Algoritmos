{
  "nbformat": 4,
  "nbformat_minor": 0,
  "metadata": {
    "colab": {
      "name": "EDD_BigO_1511.ipynb",
      "provenance": [],
      "authorship_tag": "ABX9TyNemTMtyKxLsPRmwRf0V0lE",
      "include_colab_link": true
    },
    "kernelspec": {
      "name": "python3",
      "display_name": "Python 3"
    },
    "language_info": {
      "name": "python"
    }
  },
  "cells": [
    {
      "cell_type": "markdown",
      "metadata": {
        "id": "view-in-github",
        "colab_type": "text"
      },
      "source": [
        "<a href=\"https://colab.research.google.com/github/Alejandrico14/Dise-o-y-Analisis-de-Algoritmos/blob/main/EDD_BigO_1511.ipynb\" target=\"_parent\"><img src=\"https://colab.research.google.com/assets/colab-badge.svg\" alt=\"Open In Colab\"/></a>"
      ]
    },
    {
      "cell_type": "markdown",
      "metadata": {
        "id": "g4QsINX_FU6M"
      },
      "source": [
        "#Arboles Binarios \n",
        "\n",
        "#Arboles Binarios de Busqueda"
      ]
    },
    {
      "cell_type": "code",
      "metadata": {
        "id": "KRbCKwq_EM28"
      },
      "source": [
        "class NodoArbol:\n",
        "    def __init__ ( self, value, left=None, right=None): \n",
        "        self.data = value \n",
        "        self.left = left\n",
        "        self.right = right \n",
        "        \n",
        "class ArbolBB:\n",
        "    def __init__(self):\n",
        "        self.__root = None\n",
        "\n",
        "    def insert(self, value): \n",
        "        if self.__root == None:\n",
        "            self.__root = NodoArbol(value)\n",
        "        else: \n",
        "            self.__insert_nodo__(self.__root, value )\n",
        "\n",
        "    def __insert_nodo__(self, nodo, value):\n",
        "        if nodo.data == value: \n",
        "            print(\"Ya existe\")\n",
        "            pass\n",
        "        elif value < nodo.data: \n",
        "            if nodo.left == None:\n",
        "                nodo.left = NodoArbol(value)\n",
        "            else:\n",
        "                self.__insert_nodo__(nodo.left, value)\n",
        "        else:\n",
        "            if nodo.right == None: \n",
        "                nodo.right == NodoArbol(value)\n",
        "            else:\n",
        "                self.__insert_nodo__(nodo.right, value)\n",
        "    \n",
        "    # preorden, posorden\n",
        "    def transversal(self, formato =\"inorden\"):\n",
        "        if formato == \"inorden\": \n",
        "            print(\"InOrden\")\n",
        "            self.recorrido_in(self.__root)\n",
        "            print()\n",
        "        elif formato == \"preorden\": \n",
        "            print(\"Preorden\")\n",
        "            self.recorrido_pre(self.__root)\n",
        "            print()\n",
        "        else: #post\n",
        "            print(\"Pos orden\")\n",
        "            self.recorrido_pos(self.__root)\n",
        "            print()\n",
        "    def recorrido_in(self, nodo): \n",
        "        if nodo != None: \n",
        "            self.recorrido_in(nodo.left)\n",
        "            print(nodo.data , end = \"  \")\n",
        "            self.recorrido_in(nodo.right )\n",
        "\n",
        "    def recorrido_pre(self, nodo): \n",
        "        if nodo != None: \n",
        "            print(nodo.data , end = \"  \")\n",
        "            self.recorrido_pre(nodo.left)\n",
        "            self.recorrido_pre(nodo.right )\n",
        "        \n",
        "    def recorrido_pos(self, nodo): \n",
        "        if nodo != None: \n",
        "            self.recorrido_pos(nodo.left)\n",
        "            self.recorrido_pos(nodo.right )\n",
        "            print( nodo.data , end = \"  \")\n",
        "\n",
        "    def buscar (self , value ):\n",
        "        if self.__root == None:\n",
        "            print(\"Árbol vacio\")\n",
        "            return None\n",
        "        else:\n",
        "            return self.busca_nodo(self.__root, value)\n",
        "    \n",
        "    def busca_nodo(self, nodo, value):\n",
        "        if nodo == None:\n",
        "           # print(\"No existe\")\n",
        "            return \"No existe el valor\"\n",
        "        elif nodo.data == value:\n",
        "            print(\"Encontrado\", nodo.data)\n",
        "            return nodo \n",
        "        elif value < nodo.data: \n",
        "           # print(\" Buscar del lado Izq\")\n",
        "            return self.busca_nodo(nodo.left , value)\n",
        "        else: \n",
        "           # print(\"buscar del lado derecho\")\n",
        "            return self.busca_nodo(nodo.right, value)\n",
        "\n",
        "\n",
        "\n",
        "\n",
        "                \n",
        "\n"
      ],
      "execution_count": null,
      "outputs": []
    },
    {
      "cell_type": "code",
      "metadata": {
        "colab": {
          "base_uri": "https://localhost:8080/"
        },
        "id": "OABlxIngbBvW",
        "outputId": "b8b99335-4936-4ca8-d16a-5ca2384fb114"
      },
      "source": [
        "abb = ArbolBB()\n",
        "abb.insert(55)\n",
        "abb.insert(34)\n",
        "abb.insert(30)\n",
        "abb.insert(23)\n",
        "abb.insert(22)\n",
        "abb.insert(15)\n",
        "abb.insert(10)\n",
        "abb.insert(5)\n",
        "abb.insert(1)\n",
        "abb.transversal(\"inorden\")\n",
        "abb.transversal(\"preorden\")\n",
        "abb.transversal(\"posorden\")\n",
        "res = abb.buscar(22)\n",
        "\n",
        "print(\"Resultado:\", res.left.data)\n",
        "print(\"Resultado:\", res.right)"
      ],
      "execution_count": null,
      "outputs": [
        {
          "output_type": "stream",
          "name": "stdout",
          "text": [
            "InOrden\n",
            "1  5  10  15  22  23  30  34  55  \n",
            "Preorden\n",
            "55  34  30  23  22  15  10  5  1  \n",
            "Pos orden\n",
            "1  5  10  15  22  23  30  34  55  \n",
            "Encontrado 22\n",
            "Resultado: 15\n",
            "Resultado: None\n"
          ]
        }
      ]
    },
    {
      "cell_type": "code",
      "metadata": {
        "colab": {
          "base_uri": "https://localhost:8080/"
        },
        "id": "w0iugNdCLyXw",
        "outputId": "cb04d278-758b-46bf-c945-aead0ec87207"
      },
      "source": [
        "raiz = NodoArbol(60, None, None)\n",
        "raiz.left = NodoArbol(40, None, None)\n",
        "print(raiz.left.data)\n",
        "\n",
        "# Lo mismo pero como programador ninja e.e\n",
        "\n",
        "raiz =  NodoArbol(60, NodoArbol(40), None)\n",
        "print(raiz.left.data)\n",
        "\n",
        "\n",
        "raiz=  NodoArbol( 60 ,  NodoArbol(40, NodoArbol(30))  , NodoArbol(70))\n",
        "print(raiz.left.left.data)\n",
        "\n",
        "print(\"Imprimir recorriendo primero la rama izquierda UWU\")\n",
        "curr_node = raiz\n",
        "while curr_node.left != None: \n",
        "    curr_node= curr_node.left\n",
        "print(curr_node.data)\n"
      ],
      "execution_count": null,
      "outputs": [
        {
          "output_type": "stream",
          "name": "stdout",
          "text": [
            "40\n",
            "40\n",
            "30\n",
            "Imprimir recorriendo primero la rama izquierda UWU\n",
            "30\n"
          ]
        }
      ]
    },
    {
      "cell_type": "markdown",
      "metadata": {
        "id": "Vx7O47bBLw12"
      },
      "source": [
        "________________________________"
      ]
    },
    {
      "cell_type": "code",
      "metadata": {
        "id": "KYr7B18bL169"
      },
      "source": [
        ""
      ],
      "execution_count": null,
      "outputs": []
    }
  ]
}