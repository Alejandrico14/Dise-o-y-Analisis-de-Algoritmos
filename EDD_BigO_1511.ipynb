{
  "nbformat": 4,
  "nbformat_minor": 0,
  "metadata": {
    "colab": {
      "name": "EDD_BigO_1511.ipynb",
      "provenance": [],
      "authorship_tag": "ABX9TyNxtM91i2m3gqNL4rR0Mnuw",
      "include_colab_link": true
    },
    "kernelspec": {
      "name": "python3",
      "display_name": "Python 3"
    },
    "language_info": {
      "name": "python"
    }
  },
  "cells": [
    {
      "cell_type": "markdown",
      "metadata": {
        "id": "view-in-github",
        "colab_type": "text"
      },
      "source": [
        "<a href=\"https://colab.research.google.com/github/Alejandrico14/Dise-o-y-Analisis-de-Algoritmos/blob/main/EDD_BigO_1511.ipynb\" target=\"_parent\"><img src=\"https://colab.research.google.com/assets/colab-badge.svg\" alt=\"Open In Colab\"/></a>"
      ]
    },
    {
      "cell_type": "markdown",
      "metadata": {
        "id": "g4QsINX_FU6M"
      },
      "source": [
        "#Arboles Binarios \n",
        "\n",
        "#Arboles Binarios de Busqueda"
      ]
    },
    {
      "cell_type": "code",
      "metadata": {
        "id": "KRbCKwq_EM28"
      },
      "source": [
        "class NodoArbol:\n",
        "    def __init__ ( self, value, left=None, right=None): \n",
        "        self.data = value \n",
        "        self.left = left\n",
        "        self.right = right \n",
        "        \n",
        "class ArbolBB:\n",
        "    def __init__(self):\n",
        "        pass\n",
        "        #pausa xdxdxd"
      ],
      "execution_count": 4,
      "outputs": []
    },
    {
      "cell_type": "code",
      "metadata": {
        "colab": {
          "base_uri": "https://localhost:8080/"
        },
        "id": "w0iugNdCLyXw",
        "outputId": "f65b5711-06a7-4cfb-8c27-64152b192e36"
      },
      "source": [
        "raiz = NodoArbol(60, None, None)\n",
        "raiz.left = NodoArbol(40, None, None)\n",
        "print(raiz.left.data)\n",
        "\n",
        "# Lo mismo pero como programador ninja e.e\n",
        "\n",
        "raiz =  NodoArbol(60, NodoArbol(40), None)\n",
        "print(raiz.left.data)\n",
        "\n",
        "\n",
        "raiz=  NodoArbol( 60 ,  NodoArbol(40, NodoArbol(30))  , NodoArbol(70))\n",
        "print(raiz.left.left.data)"
      ],
      "execution_count": 7,
      "outputs": [
        {
          "output_type": "stream",
          "name": "stdout",
          "text": [
            "40\n",
            "40\n",
            "30\n"
          ]
        }
      ]
    },
    {
      "cell_type": "markdown",
      "metadata": {
        "id": "Vx7O47bBLw12"
      },
      "source": [
        "________________________________"
      ]
    },
    {
      "cell_type": "code",
      "metadata": {
        "id": "KYr7B18bL169"
      },
      "source": [
        ""
      ],
      "execution_count": null,
      "outputs": []
    }
  ]
}