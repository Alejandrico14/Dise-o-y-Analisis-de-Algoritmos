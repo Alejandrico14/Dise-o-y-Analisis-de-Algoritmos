{
  "nbformat": 4,
  "nbformat_minor": 0,
  "metadata": {
    "colab": {
      "name": "Sort_BigO_1511.ipynb",
      "provenance": [],
      "collapsed_sections": [],
      "authorship_tag": "ABX9TyOAdnPA0krXudScmDLJ7Sb0",
      "include_colab_link": true
    },
    "kernelspec": {
      "name": "python3",
      "display_name": "Python 3"
    },
    "language_info": {
      "name": "python"
    }
  },
  "cells": [
    {
      "cell_type": "markdown",
      "metadata": {
        "id": "view-in-github",
        "colab_type": "text"
      },
      "source": [
        "<a href=\"https://colab.research.google.com/github/Alejandrico14/Dise-o-y-Analisis-de-Algoritmos/blob/main/Sort_BigO_1511.ipynb\" target=\"_parent\"><img src=\"https://colab.research.google.com/assets/colab-badge.svg\" alt=\"Open In Colab\"/></a>"
      ]
    },
    {
      "cell_type": "markdown",
      "metadata": {
        "id": "jamQ3KCfJPTk"
      },
      "source": [
        "#Algoritmos de ordenamiento\n",
        "\n",
        "#1. Burbuja\n",
        "#1. inserción\n",
        "#1. quicksort\n",
        "#1. seleccion\n",
        "#1. shell\n",
        "#1. merge\n",
        "\n",
        "Ordenamiento por metodo de la burbuja\n",
        "\n",
        "8, 5, 9, 3\n",
        "\n",
        "3,5,8,9 (resultado final)"
      ]
    },
    {
      "cell_type": "markdown",
      "metadata": {
        "id": "k1RamqsuWr-O"
      },
      "source": [
        "#BURBUJA"
      ]
    },
    {
      "cell_type": "code",
      "metadata": {
        "colab": {
          "base_uri": "https://localhost:8080/"
        },
        "id": "FLMy69KPJOoY",
        "outputId": "dde94e39-141c-4496-f23e-141184d4ea72"
      },
      "source": [
        "#intercambio --> a,b = b,a\n",
        " # lista original = [8, 5 ,9, 3]\n",
        "info = [12,6,9,5,7,1]\n",
        "\n",
        "def burbuja (data): #M O(n ) P  O(1)\n",
        "  tan = len(data) #M O( n ) P  O(1)\n",
        "  for tope in range (tan-1, 0, -1): #M O( 1) P  O(na)\n",
        "    for pivote in range(tope): #M O(1 ) P  O(na)\n",
        "      if data[pivote] > data[pivote +1]: #M O(n ) P  O()\n",
        "        data[pivote],data[pivote +1]=data[pivote +1],data[pivote]#M O( 0) P  O(2n^2)\n",
        "        print (f\"-->{data}<--\")\n",
        "  return data\n",
        "burbuja (info)\n",
        "\n",
        "# Memoria (n + 3)\n",
        "# Proceso (3+2n^2)\n",
        "#ahora considerando las reglas de simplificación de big O\n",
        "# Memoria (n)\n",
        "# Proceso (n^2)"
      ],
      "execution_count": null,
      "outputs": [
        {
          "output_type": "stream",
          "name": "stdout",
          "text": [
            "-->[6, 12, 9, 5, 7, 1]<--\n",
            "-->[6, 9, 12, 5, 7, 1]<--\n",
            "-->[6, 9, 5, 12, 7, 1]<--\n",
            "-->[6, 9, 5, 7, 12, 1]<--\n",
            "-->[6, 9, 5, 7, 1, 12]<--\n",
            "-->[6, 5, 9, 7, 1, 12]<--\n",
            "-->[6, 5, 7, 9, 1, 12]<--\n",
            "-->[6, 5, 7, 1, 9, 12]<--\n",
            "-->[5, 6, 7, 1, 9, 12]<--\n",
            "-->[5, 6, 1, 7, 9, 12]<--\n",
            "-->[5, 1, 6, 7, 9, 12]<--\n",
            "-->[1, 5, 6, 7, 9, 12]<--\n"
          ]
        },
        {
          "output_type": "execute_result",
          "data": {
            "text/plain": [
              "[1, 5, 6, 7, 9, 12]"
            ]
          },
          "metadata": {},
          "execution_count": 8
        }
      ]
    },
    {
      "cell_type": "markdown",
      "metadata": {
        "id": "5Z52n0LHWvZN"
      },
      "source": [
        "# Selection sort"
      ]
    },
    {
      "cell_type": "code",
      "metadata": {
        "colab": {
          "base_uri": "https://localhost:8080/"
        },
        "id": "pwyeDHAwVBNU",
        "outputId": "c28a46cf-eae8-4bbc-da17-2fc52fb8da91"
      },
      "source": [
        "def selection_sort( data ): #M  O( n )   P  O( 1 )\n",
        "  for pivote in range (len(data)): #M  O( 1 )   P  O(na)\n",
        "    min = pivote #posición del menor #M  O( 1 )   P  O( n )\n",
        "    for index in range (pivote, len (data),1):#M  O( 1 )   P  O( na )\n",
        "      if data[index]< data[min]: #M  O( 0)   P  O( na )\n",
        "        min = index  #M  O( 0 )   P  O( 1 * n * n )\n",
        "    data[pivote], data[min] = data[min], data[pivote] #M  O( 0 )   P  O( 2*n )\n",
        "    print (f\"-->{data}<--\") #M  O( 0 )   P  O( 0 )\n",
        "  return data #M  O( 0 )   P  O( 1 )\n",
        "\n",
        "#lista_original = [8, 5 ,9, 3]\n",
        "lista_original = [12,6,9,5,7,1]\n",
        "\n",
        "print(selection_sort(lista_original))\n",
        "\n",
        "#M  O( n+1+1+1 )   P  O( 1 + n + n^2 + 2n + 1 )\n",
        "#final\n",
        "#M  O( n )   P  O( n^2 )"
      ],
      "execution_count": null,
      "outputs": [
        {
          "output_type": "stream",
          "name": "stdout",
          "text": [
            "-->[1, 6, 9, 5, 7, 12]<--\n",
            "-->[1, 5, 9, 6, 7, 12]<--\n",
            "-->[1, 5, 6, 9, 7, 12]<--\n",
            "-->[1, 5, 6, 7, 9, 12]<--\n",
            "-->[1, 5, 6, 7, 9, 12]<--\n",
            "-->[1, 5, 6, 7, 9, 12]<--\n",
            "[1, 5, 6, 7, 9, 12]\n"
          ]
        }
      ]
    },
    {
      "cell_type": "markdown",
      "metadata": {
        "id": "-P5so0NavTjS"
      },
      "source": [
        "# Insertion Sort\n",
        "Jugar cartas, cuando acomodas las cartas por orden numerico en tu mano o en el tablero.\n",
        "ejemplo numeros\n",
        "10, 51, 2, 18, 4, 31, 13, 5"
      ]
    },
    {
      "cell_type": "code",
      "metadata": {
        "colab": {
          "base_uri": "https://localhost:8080/"
        },
        "id": "JfrKli2ezsqh",
        "outputId": "0fd93fde-eb28-449d-9dfb-ef168dcbd708"
      },
      "source": [
        "def insertion_sort( data ): #M  O( n )   P  O( 1 )\n",
        "  print(f\"original{data}\") #M  O( 0 )   P  O( 1 )\n",
        "  #logica de Insertion Sort\n",
        "  for pivote in range (1, len(data), 1 ):#M  O( 1 )   P  O( na )\n",
        "    for index in range (0, pivote+1, 1): #M  O( 1 )   P  O( na )\n",
        "     if data[pivote] < data[index]: #M  O( 0 )   P  O( na )\n",
        "        tmp=data[pivote] #M  O( 1 )   P  O( n )\n",
        "        # recorrer a la derecha \n",
        "        for i in range (pivote , index ,-1): #M  O( 1 )   P  O( na )\n",
        "          data[i] = data [i -1] #M  O( 0 )   P  O( n*m )\n",
        "        data[index] = tmp #M  O( 0 )   P  O( n )\n",
        "    print(f\"pasada{pivote}---->{data}<-----\") #M  O( 0 )   P  O( 1 )\n",
        "  return data  #M  O( 0 )   P  O( 1 )\n",
        "\n",
        "  #M  O( n + 4 )   ---> T(n)\n",
        "  #P  O( 4 + 2n + n*m  ) ---> T(n)\n",
        "\n",
        "  # final de M O( n )\n",
        "  # final de P O( n^2 ) \n",
        "\n",
        "\n",
        "\n",
        "\n",
        "info = [10, 51, 2, 18, 4, 31, 13, 5]\n",
        "insertion_sort(info)"
      ],
      "execution_count": null,
      "outputs": [
        {
          "output_type": "stream",
          "name": "stdout",
          "text": [
            "original[10, 51, 2, 18, 4, 31, 13, 5]\n",
            "pasada1---->[10, 51, 2, 18, 4, 31, 13, 5]<-----\n",
            "pasada2---->[2, 10, 51, 18, 4, 31, 13, 5]<-----\n",
            "pasada3---->[2, 10, 18, 51, 4, 31, 13, 5]<-----\n",
            "pasada4---->[2, 4, 10, 18, 51, 31, 13, 5]<-----\n",
            "pasada5---->[2, 4, 10, 18, 31, 51, 13, 5]<-----\n",
            "pasada6---->[2, 4, 10, 13, 18, 31, 51, 5]<-----\n",
            "pasada7---->[2, 4, 5, 10, 13, 18, 31, 51]<-----\n"
          ]
        },
        {
          "output_type": "execute_result",
          "data": {
            "text/plain": [
              "[2, 4, 5, 10, 13, 18, 31, 51]"
            ]
          },
          "metadata": {},
          "execution_count": 3
        }
      ]
    },
    {
      "cell_type": "markdown",
      "metadata": {
        "id": "qz0kUFaNFzwO"
      },
      "source": [
        "# Merge-Sort"
      ]
    },
    {
      "cell_type": "code",
      "metadata": {
        "id": "IRDxh_p0tppR"
      },
      "source": [
        "def mergeSort (data): # M  O( n )       P O( 1 )\n",
        "  #recursividad estudiar xD\n",
        "  tam = len(data)  # M  O( 1 )       P O( 1 )\n",
        "  if tam == 1: #caso base de la recursividad  # M  O( 0 )       P O( na )\n",
        "    return data  # M  O( 0 )       P O( 1 )\n",
        "  # para obligar una parte entera en python, solo es doble diagonal\n",
        "  mid = tam // 2 # M  O( 1 )       P O( 2 )\n",
        "  I = mergeSort( data[0: mid :1] ) # M  O( 0 )       P O( (log n)/2 )\n",
        "  D = mergeSort( data[ mid :  : 1])\n",
        "  #print(f\"{I} \\t\\t{D}\")\n",
        "  return merge( I, D )\n",
        "\n",
        "# M  O(  )       P O(   )\n",
        "\n",
        "# se junta derecha e izquierda\n",
        "def merge( I , D ):\n",
        "  resultado = [0] * (len(I) + len(D))\n",
        "  i = 0\n",
        "  d = 0 \n",
        "  r = 0\n",
        "  # \n",
        "  while i < len( I ) and d < len( D ):\n",
        "    if I[i] < D[d]:\n",
        "      resultado[r]= I[i]\n",
        "      i += 1\n",
        "    else:\n",
        "      resultado[r] = D[d]\n",
        "      d += 1\n",
        "    r += 1\n",
        "  #PROCESAR LOS FALTANTES, YA SEa A LA DERECHA O A LA IZQUIERDA\n",
        "  while i < len(I):\n",
        "    resultado[r]= I[i]\n",
        "    i += 1\n",
        "    r += 1\n",
        "  while d < len( D ):\n",
        "    resultado[r] = D[d]\n",
        "    d +=1\n",
        "    r += 1\n",
        "  return resultado\n",
        "\n",
        "# M  O(  )       P O(   )\n",
        "# M  O(  )       P O(   )\n"
      ],
      "execution_count": 19,
      "outputs": []
    },
    {
      "cell_type": "code",
      "metadata": {
        "colab": {
          "base_uri": "https://localhost:8080/"
        },
        "id": "pPcQz7HYzGlM",
        "outputId": "61603f0f-44a3-4142-9b23-0220c84d4656"
      },
      "source": [
        "numeros = [10,51,2,18,4,31,12,5]\n",
        "print(mergeSort(numeros))"
      ],
      "execution_count": 20,
      "outputs": [
        {
          "output_type": "stream",
          "name": "stdout",
          "text": [
            "[10] \t\t[51]\n",
            "[2] \t\t[18]\n",
            "[10, 51] \t\t[2, 18]\n",
            "[4] \t\t[31]\n",
            "[12] \t\t[5]\n",
            "[4, 31] \t\t[5, 12]\n",
            "[2, 10, 18, 51] \t\t[4, 5, 12, 31]\n",
            "[2, 4, 5, 10, 12, 18, 31, 51]\n"
          ]
        }
      ]
    },
    {
      "cell_type": "code",
      "metadata": {
        "colab": {
          "base_uri": "https://localhost:8080/"
        },
        "id": "BsuR9xFMxalP",
        "outputId": "9696e2e1-9f62-4785-f700-71c91db9f674"
      },
      "source": [
        "frutas = ['peras', 'manzanas', 'kiwi', 'limón', 'aguacate', 'uva','manzana']\n",
        "print(frutas)\n",
        "\n",
        "print(frutas [0:3:1])\n",
        "\n",
        "print(frutas[3:6:1])\n",
        "\n",
        "mid = len(frutas) //2\n",
        "print(mid)\n",
        "\n",
        "print(frutas[0 : mid : 1])\n",
        "print( frutas[mid :  : 1])"
      ],
      "execution_count": null,
      "outputs": [
        {
          "output_type": "stream",
          "name": "stdout",
          "text": [
            "['peras', 'manzanas', 'kiwi', 'limón', 'aguacate', 'uva', 'manzana']\n",
            "['peras', 'manzanas', 'kiwi']\n",
            "['limón', 'aguacate', 'uva']\n",
            "3\n",
            "['peras', 'manzanas', 'kiwi']\n",
            "['limón', 'aguacate', 'uva', 'manzana']\n"
          ]
        }
      ]
    },
    {
      "cell_type": "code",
      "metadata": {
        "colab": {
          "base_uri": "https://localhost:8080/"
        },
        "id": "gxttB9m_1yF9",
        "outputId": "e9da6ef7-9523-4957-fe32-bc8dc6d4494d"
      },
      "source": [
        "I = [2, 8]\n",
        "D = [3, 22, 23]\n",
        "resultado = [0]* (len(I) + len(D))\n",
        "print(resultado)"
      ],
      "execution_count": 3,
      "outputs": [
        {
          "output_type": "stream",
          "name": "stdout",
          "text": [
            "[0, 0, 0, 0, 0]\n"
          ]
        }
      ]
    }
  ]
}