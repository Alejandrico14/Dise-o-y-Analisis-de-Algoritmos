{
  "nbformat": 4,
  "nbformat_minor": 0,
  "metadata": {
    "colab": {
      "name": "Sort_BigO_1511.ipynb",
      "provenance": [],
      "collapsed_sections": [],
      "authorship_tag": "ABX9TyMg7z9e9pzGwri1XL0URMZk",
      "include_colab_link": true
    },
    "kernelspec": {
      "name": "python3",
      "display_name": "Python 3"
    },
    "language_info": {
      "name": "python"
    }
  },
  "cells": [
    {
      "cell_type": "markdown",
      "metadata": {
        "id": "view-in-github",
        "colab_type": "text"
      },
      "source": [
        "<a href=\"https://colab.research.google.com/github/Alejandrico14/Dise-o-y-Analisis-de-Algoritmos/blob/main/Sort_BigO_1511.ipynb\" target=\"_parent\"><img src=\"https://colab.research.google.com/assets/colab-badge.svg\" alt=\"Open In Colab\"/></a>"
      ]
    },
    {
      "cell_type": "markdown",
      "metadata": {
        "id": "jamQ3KCfJPTk"
      },
      "source": [
        "#Algoritmos de ordenamiento\n",
        "\n",
        "#1. Burbuja\n",
        "#1. inserción\n",
        "#1. quicksort\n",
        "#1. seleccion\n",
        "#1. shell\n",
        "#1. merge\n",
        "\n",
        "Ordenamiento por metodo de la burbuja\n",
        "\n",
        "8, 5, 9, 3\n",
        "\n",
        "3,5,8,9 (resultado final)"
      ]
    },
    {
      "cell_type": "markdown",
      "metadata": {
        "id": "k1RamqsuWr-O"
      },
      "source": [
        "#BURBUJA"
      ]
    },
    {
      "cell_type": "code",
      "metadata": {
        "colab": {
          "base_uri": "https://localhost:8080/"
        },
        "id": "FLMy69KPJOoY",
        "outputId": "dde94e39-141c-4496-f23e-141184d4ea72"
      },
      "source": [
        "#intercambio --> a,b = b,a\n",
        " # lista original = [8, 5 ,9, 3]\n",
        "info = [12,6,9,5,7,1]\n",
        "\n",
        "def burbuja (data): #M O(n ) P  O(1)\n",
        "  tan = len(data) #M O( n ) P  O(1)\n",
        "  for tope in range (tan-1, 0, -1): #M O( 1) P  O(na)\n",
        "    for pivote in range(tope): #M O(1 ) P  O(na)\n",
        "      if data[pivote] > data[pivote +1]: #M O(n ) P  O()\n",
        "        data[pivote],data[pivote +1]=data[pivote +1],data[pivote]#M O( 0) P  O(2n^2)\n",
        "        print (f\"-->{data}<--\")\n",
        "  return data\n",
        "burbuja (info)\n",
        "\n",
        "# Memoria (n + 3)\n",
        "# Proceso (3+2n^2)\n",
        "#ahora considerando las reglas de simplificación de big O\n",
        "# Memoria (n)\n",
        "# Proceso (n^2)"
      ],
      "execution_count": null,
      "outputs": [
        {
          "output_type": "stream",
          "name": "stdout",
          "text": [
            "-->[6, 12, 9, 5, 7, 1]<--\n",
            "-->[6, 9, 12, 5, 7, 1]<--\n",
            "-->[6, 9, 5, 12, 7, 1]<--\n",
            "-->[6, 9, 5, 7, 12, 1]<--\n",
            "-->[6, 9, 5, 7, 1, 12]<--\n",
            "-->[6, 5, 9, 7, 1, 12]<--\n",
            "-->[6, 5, 7, 9, 1, 12]<--\n",
            "-->[6, 5, 7, 1, 9, 12]<--\n",
            "-->[5, 6, 7, 1, 9, 12]<--\n",
            "-->[5, 6, 1, 7, 9, 12]<--\n",
            "-->[5, 1, 6, 7, 9, 12]<--\n",
            "-->[1, 5, 6, 7, 9, 12]<--\n"
          ]
        },
        {
          "output_type": "execute_result",
          "data": {
            "text/plain": [
              "[1, 5, 6, 7, 9, 12]"
            ]
          },
          "metadata": {},
          "execution_count": 8
        }
      ]
    },
    {
      "cell_type": "markdown",
      "metadata": {
        "id": "5Z52n0LHWvZN"
      },
      "source": [
        "# Selection sort"
      ]
    },
    {
      "cell_type": "code",
      "metadata": {
        "colab": {
          "base_uri": "https://localhost:8080/"
        },
        "id": "pwyeDHAwVBNU",
        "outputId": "c28a46cf-eae8-4bbc-da17-2fc52fb8da91"
      },
      "source": [
        "def selection_sort( data ): #M  O( n )   P  O( 1 )\n",
        "  for pivote in range (len(data)): #M  O( 1 )   P  O(na)\n",
        "    min = pivote #posición del menor #M  O( 1 )   P  O( n )\n",
        "    for index in range (pivote, len (data),1):#M  O( 1 )   P  O( na )\n",
        "      if data[index]< data[min]: #M  O( 0)   P  O( na )\n",
        "        min = index  #M  O( 0 )   P  O( 1 * n * n )\n",
        "    data[pivote], data[min] = data[min], data[pivote] #M  O( 0 )   P  O( 2*n )\n",
        "    print (f\"-->{data}<--\") #M  O( 0 )   P  O( 0 )\n",
        "  return data #M  O( 0 )   P  O( 1 )\n",
        "\n",
        "#lista_original = [8, 5 ,9, 3]\n",
        "lista_original = [12,6,9,5,7,1]\n",
        "\n",
        "print(selection_sort(lista_original))\n",
        "\n",
        "#M  O( n+1+1+1 )   P  O( 1 + n + n^2 + 2n + 1 )\n",
        "#final\n",
        "#M  O( n )   P  O( n^2 )"
      ],
      "execution_count": null,
      "outputs": [
        {
          "output_type": "stream",
          "name": "stdout",
          "text": [
            "-->[1, 6, 9, 5, 7, 12]<--\n",
            "-->[1, 5, 9, 6, 7, 12]<--\n",
            "-->[1, 5, 6, 9, 7, 12]<--\n",
            "-->[1, 5, 6, 7, 9, 12]<--\n",
            "-->[1, 5, 6, 7, 9, 12]<--\n",
            "-->[1, 5, 6, 7, 9, 12]<--\n",
            "[1, 5, 6, 7, 9, 12]\n"
          ]
        }
      ]
    },
    {
      "cell_type": "markdown",
      "metadata": {
        "id": "-P5so0NavTjS"
      },
      "source": [
        "# Insertion Sort\n",
        "Jugar cartas, cuando acomodas las cartas por orden numerico en tu mano o en el tablero.\n",
        "ejemplo numeros\n",
        "10, 51, 2, 18, 4, 31, 13, 5"
      ]
    },
    {
      "cell_type": "code",
      "metadata": {
        "colab": {
          "base_uri": "https://localhost:8080/"
        },
        "id": "JfrKli2ezsqh",
        "outputId": "fffa0a31-a377-4bb9-ab7d-fa3d9d2cfa07"
      },
      "source": [
        "def insertion_sort( data ):\n",
        "  print(f\"original{data}\")\n",
        "  #logica de Insertion Sort\n",
        "\n",
        "\n",
        "\n",
        "\n",
        "info = [10, 51, 2, 18, 4, 31, 13, 5]\n",
        "insertion_sort(info)"
      ],
      "execution_count": 1,
      "outputs": [
        {
          "output_type": "stream",
          "name": "stdout",
          "text": [
            "original[10, 51, 2, 18, 4, 31, 13, 5]\n"
          ]
        }
      ]
    }
  ]
}