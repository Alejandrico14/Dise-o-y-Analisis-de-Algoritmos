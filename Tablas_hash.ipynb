{
  "nbformat": 4,
  "nbformat_minor": 0,
  "metadata": {
    "colab": {
      "name": "Tablas hash.ipynb",
      "provenance": [],
      "collapsed_sections": [],
      "authorship_tag": "ABX9TyMYPa+M5TFxSP1jTtf4cj/L",
      "include_colab_link": true
    },
    "kernelspec": {
      "name": "python3",
      "display_name": "Python 3"
    },
    "language_info": {
      "name": "python"
    }
  },
  "cells": [
    {
      "cell_type": "markdown",
      "metadata": {
        "id": "view-in-github",
        "colab_type": "text"
      },
      "source": [
        "<a href=\"https://colab.research.google.com/github/Alejandrico14/Dise-o-y-Analisis-de-Algoritmos/blob/main/Tablas_hash.ipynb\" target=\"_parent\"><img src=\"https://colab.research.google.com/assets/colab-badge.svg\" alt=\"Open In Colab\"/></a>"
      ]
    },
    {
      "cell_type": "code",
      "metadata": {
        "colab": {
          "base_uri": "https://localhost:8080/"
        },
        "id": "z5Y4RsMO27nZ",
        "outputId": "23bf4fa8-10f8-41af-b060-6a8cace27ec7"
      },
      "source": [
        "class HashTableADT:\n",
        "    \n",
        "    def __init__(self):\n",
        "        self.tamano = 23\n",
        "        self.ranuras = [None] * self.tamano\n",
        "        self.datos = [None] * self.tamano\n",
        "\n",
        "    def agregar(self,key,dato):\n",
        "      valorHash = self.funcionHash(key,len(self.ranuras))\n",
        "\n",
        "      if self.ranuras[valorHash] == None:\n",
        "        self.ranuras[valorHash] = key\n",
        "        self.datos[valorHash] = dato\n",
        "      else:\n",
        "        if self.ranuras[valorHash] == key:\n",
        "          self.datos[valorHash] = dato  #Aqui se reemplaza\n",
        "        else:\n",
        "          proximaRanura = self.rehash(valorHash,len(self.ranuras))\n",
        "          while self.ranuras[proximaRanura] != None and \\\n",
        "                          self.ranuras[proximaRanura] != key:\n",
        "            proximaRanura = self.rehash(proximaRanura,len(self.ranuras))\n",
        "\n",
        "          if self.ranuras[proximaRanura] == None:\n",
        "            self.ranuras[proximaRanura]=key\n",
        "            self.datos[proximaRanura]=dato\n",
        "          else:\n",
        "            self.datos[proximaRanura] = dato #Aquí también se reeplaza xd\n",
        "\n",
        "    def funcionHash(self,key,tamano):\n",
        "         return key%tamano\n",
        "\n",
        "    def rehash(self,hashViejo,tamano):\n",
        "        return (hashViejo+1)%tamano\n",
        "\n",
        "    def obtener(self,key):\n",
        "      ranuraInicio = self.funcionHash(key,len(self.ranuras))\n",
        "\n",
        "      dato = None\n",
        "      parar = False\n",
        "      encontrado = False\n",
        "      posicion = ranuraInicio\n",
        "      while self.ranuras[posicion] != None and  \\\n",
        "                           not encontrado and not parar:\n",
        "         if self.ranuras[posicion] == key:\n",
        "           encontrado = True\n",
        "           dato = self.datos[posicion]\n",
        "         else:\n",
        "           posicion=self.rehash(posicion,len(self.ranuras))\n",
        "           if posicion == ranuraInicio:\n",
        "               parar = True\n",
        "      return dato\n",
        "\n",
        "    def __getitem__(self,key):\n",
        "        return self.obtener(key)\n",
        "\n",
        "    def __setitem__(self,key,dato):\n",
        "        self.agregar(key,dato)\n",
        "\n",
        "H=TablaHash()\n",
        "H[415]=\"Fresa\"\n",
        "H[520]=\"Manzana\"\n",
        "H[40]=\"Platano\"\n",
        "H[123]=\"coco\"\n",
        "H[215]=\"Mora\"\n",
        "H[23]=\"Elote\"\n",
        "print(H.ranuras)\n",
        "print(H.datos)\n",
        "\n",
        "print(H[415])\n",
        "\n",
        "print(H[520])\n",
        "H[20]='Pera'\n",
        "print(H[20])\n",
        "print(H[40])\n"
      ],
      "execution_count": 6,
      "outputs": [
        {
          "output_type": "stream",
          "name": "stdout",
          "text": [
            "[23, 415, None, None, None, None, None, None, 123, 215, None, None, None, None, 520, None, None, 40, None, None, None, None, None]\n",
            "['Elote', 'Fresa', None, None, None, None, None, None, 'coco', 'Mora', None, None, None, None, 'Manzana', None, None, 'Platano', None, None, None, None, None]\n",
            "Fresa\n",
            "Manzana\n",
            "Pera\n",
            "Platano\n"
          ]
        }
      ]
    }
  ]
}