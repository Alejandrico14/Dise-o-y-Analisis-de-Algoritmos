{
  "nbformat": 4,
  "nbformat_minor": 0,
  "metadata": {
    "colab": {
      "name": "Tarea9.jipynb",
      "provenance": [],
      "authorship_tag": "ABX9TyNA4HFZtv96hjLmyTTd+lFO",
      "include_colab_link": true
    },
    "kernelspec": {
      "name": "python3",
      "display_name": "Python 3"
    },
    "language_info": {
      "name": "python"
    }
  },
  "cells": [
    {
      "cell_type": "markdown",
      "metadata": {
        "id": "view-in-github",
        "colab_type": "text"
      },
      "source": [
        "<a href=\"https://colab.research.google.com/github/Alejandrico14/Dise-o-y-Analisis-de-Algoritmos/blob/main/Tarea9_jipynb.ipynb\" target=\"_parent\"><img src=\"https://colab.research.google.com/assets/colab-badge.svg\" alt=\"Open In Colab\"/></a>"
      ]
    },
    {
      "cell_type": "code",
      "metadata": {
        "colab": {
          "base_uri": "https://localhost:8080/"
        },
        "id": "gK_XZqv9Tvhz",
        "outputId": "6b3fdc46-b26e-4fb7-db63-ee4eb9acb05e"
      },
      "source": [
        "def quicksort(arreglo, izquierda, derecha):\n",
        "    if izquierda < derecha:\n",
        "        indiceParticion = particion(arreglo, izquierda, derecha)\n",
        "        quicksort(arreglo, izquierda, indiceParticion)\n",
        "        quicksort(arreglo, indiceParticion + 1, derecha)\n",
        "\n",
        "\n",
        "def particion(arreglo, izquierda, derecha):\n",
        "    pivote = arreglo[izquierda]\n",
        "    while True:\n",
        "\n",
        "        while arreglo[izquierda] < pivote:\n",
        "            izquierda += 1\n",
        "        while arreglo[derecha] > pivote:\n",
        "            derecha -= 1\n",
        "        if izquierda >= derecha:\n",
        "\n",
        "            return derecha\n",
        "        else:\n",
        "\n",
        "            arreglo[izquierda], arreglo[derecha] = arreglo[derecha], arreglo[izquierda]\n",
        "\n",
        "            izquierda += 1\n",
        "            derecha -= 1\n",
        "\n",
        "\n",
        "arreglo = [5, 1, 2, 1, 1, 3, 5, 1, 5, 1, 99, 231, 234, 12, 121,\n",
        "           312, 123, 123, 12, 312, 321, 312, 31, 23, 12, 3123, 123, ]\n",
        "print(\"Antes de ordenarlo: \")\n",
        "print(arreglo)\n",
        "quicksort(arreglo, 0, len(arreglo) - 1)\n",
        "print(\"Después de ordenarlo: \")\n",
        "print(arreglo)"
      ],
      "execution_count": 8,
      "outputs": [
        {
          "output_type": "stream",
          "name": "stdout",
          "text": [
            "Antes de ordenarlo: \n",
            "[5, 1, 2, 1, 1, 3, 5, 1, 5, 1, 99, 231, 234, 12, 121, 312, 123, 123, 12, 312, 321, 312, 31, 23, 12, 3123, 123]\n",
            "Después de ordenarlo: \n",
            "[1, 1, 1, 1, 1, 2, 3, 5, 5, 5, 12, 12, 12, 23, 31, 99, 121, 123, 123, 123, 231, 234, 312, 312, 312, 321, 3123]\n"
          ]
        }
      ]
    }
  ]
}