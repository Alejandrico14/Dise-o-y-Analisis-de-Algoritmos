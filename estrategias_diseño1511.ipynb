{
  "nbformat": 4,
  "nbformat_minor": 0,
  "metadata": {
    "colab": {
      "name": "estrategias_diseño1511.ipynb",
      "provenance": [],
      "authorship_tag": "ABX9TyOU7n8PJakSbQAO7bxM8CBT",
      "include_colab_link": true
    },
    "kernelspec": {
      "name": "python3",
      "display_name": "Python 3"
    },
    "language_info": {
      "name": "python"
    }
  },
  "cells": [
    {
      "cell_type": "markdown",
      "metadata": {
        "id": "view-in-github",
        "colab_type": "text"
      },
      "source": [
        "<a href=\"https://colab.research.google.com/github/Alejandrico14/Dise-o-y-Analisis-de-Algoritmos/blob/main/estrategias_dise%C3%B1o1511.ipynb\" target=\"_parent\"><img src=\"https://colab.research.google.com/assets/colab-badge.svg\" alt=\"Open In Colab\"/></a>"
      ]
    },
    {
      "cell_type": "markdown",
      "metadata": {
        "id": "Cn4ZeAaOYX0m"
      },
      "source": [
        "#Fuerza bruta\n",
        "\n",
        "### Ejemplo 1 de patrones de busqueda"
      ]
    },
    {
      "cell_type": "code",
      "metadata": {
        "id": "c2HeC0BHjJvr"
      },
      "source": [
        ""
      ],
      "execution_count": null,
      "outputs": []
    },
    {
      "cell_type": "code",
      "metadata": {
        "colab": {
          "base_uri": "https://localhost:8080/"
        },
        "id": "BdygwpsyVgaz",
        "outputId": "30fd4f64-3c7d-4b7d-cb7c-4e39203445df"
      },
      "source": [
        "def string_match_brute( A , P ):\n",
        "    for i in range ( len(A) - len(P) + 1   ):\n",
        "        for j in range ( len(P) ):\n",
        "            if P[j]== A[ i+j ]:\n",
        "                pass\n",
        "            else: \n",
        "                break\n",
        "        if j+1 == len(P) and A[i+j] == P[ j ]:\n",
        "            print(f\"Se encontró en la posición:  {i}\")\n",
        "\n",
        "entrada = \"001110010101101110101101\"\n",
        "patron = \"01101\"\n",
        "string_match_brute(entrada , patron)\n"
      ],
      "execution_count": null,
      "outputs": [
        {
          "output_type": "stream",
          "name": "stdout",
          "text": [
            "Se encontró en la posición:  10\n",
            "Se encontró en la posición:  19\n"
          ]
        }
      ]
    },
    {
      "cell_type": "markdown",
      "metadata": {
        "id": "L9tHjWecdxJr"
      },
      "source": [
        "Investigar el cifrado cesar (o Z xd) "
      ]
    },
    {
      "cell_type": "code",
      "metadata": {
        "id": "LkJudLwhdwrk"
      },
      "source": [
        ""
      ],
      "execution_count": null,
      "outputs": []
    }
  ]
}