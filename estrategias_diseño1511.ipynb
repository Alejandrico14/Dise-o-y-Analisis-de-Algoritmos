{
  "nbformat": 4,
  "nbformat_minor": 0,
  "metadata": {
    "colab": {
      "name": "estrategias_diseño1511.ipynb",
      "provenance": [],
      "collapsed_sections": [],
      "authorship_tag": "ABX9TyNW1O74uLfzvL0dsTheIfFl",
      "include_colab_link": true
    },
    "kernelspec": {
      "name": "python3",
      "display_name": "Python 3"
    },
    "language_info": {
      "name": "python"
    }
  },
  "cells": [
    {
      "cell_type": "markdown",
      "metadata": {
        "id": "view-in-github",
        "colab_type": "text"
      },
      "source": [
        "<a href=\"https://colab.research.google.com/github/Alejandrico14/Dise-o-y-Analisis-de-Algoritmos/blob/main/estrategias_dise%C3%B1o1511.ipynb\" target=\"_parent\"><img src=\"https://colab.research.google.com/assets/colab-badge.svg\" alt=\"Open In Colab\"/></a>"
      ]
    },
    {
      "cell_type": "markdown",
      "metadata": {
        "id": "Cn4ZeAaOYX0m"
      },
      "source": [
        "#Fuerza bruta\n",
        "\n",
        "### Ejemplo 1 de patrones de busqueda"
      ]
    },
    {
      "cell_type": "code",
      "metadata": {
        "colab": {
          "base_uri": "https://localhost:8080/"
        },
        "id": "BdygwpsyVgaz",
        "outputId": "6a8ca438-5e18-4b71-e484-a2dc69a60dc3"
      },
      "source": [
        "def string_match_brute( A , P ):\n",
        "    for i in range ( len(A) - len(P) + 1   ):\n",
        "        for j in range ( len(P) ):\n",
        "            if P[j]== A[ i+j ]:\n",
        "                pass\n",
        "            else: \n",
        "                break\n",
        "        if j+1 == len(P) and A[i+j] == P[ j ]:\n",
        "            print(f\"Se encontró en la posición:  {i}\")\n",
        "\n",
        "entrada = \"001110010101101110101101\"\n",
        "patron = \"01101\"\n",
        "string_match_brute(entrada , patron)\n",
        "\n",
        "\n",
        "#hidalfo\", \"molino\" y \"merced\" \n",
        "patron = \"hidalfo\"\n",
        "patron = \"molino\"\n",
        "patron = \"merced\"\n",
        "string_match_brute(entrada , patron)\n"
      ],
      "execution_count": null,
      "outputs": [
        {
          "output_type": "stream",
          "name": "stdout",
          "text": [
            "Se encontró en la posición:  10\n",
            "Se encontró en la posición:  19\n"
          ]
        }
      ]
    },
    {
      "cell_type": "markdown",
      "metadata": {
        "id": "ulRBU3gSnFfS"
      },
      "source": [
        "# Cifrado Cesar\n"
      ]
    },
    {
      "cell_type": "code",
      "metadata": {
        "id": "LkJudLwhdwrk",
        "colab": {
          "base_uri": "https://localhost:8080/"
        },
        "outputId": "4e21bf67-6394-4687-9500-9bcff5211e12"
      },
      "source": [
        "# solamente decifrar (ENCRIPTADO esta mal dicho )\n",
        "\n",
        "cifrado = \"dwdfdu\"\n",
        "alfabeto = \"abcdefghijklmnopqrstuvwxyz\"\n",
        "print(len(alfabeto))\n",
        "# llave ¿pasiciones de corrimiento?\n",
        "for llave in range(1, len(alfabeto)):\n",
        "    for i in range (len(cifrado)):\n",
        "        #print( alfabeto.index(cifrado[i]), end=\" \" )\n",
        "        index = alfabeto.index(cifrado [i] )\n",
        "        print( alfabeto[ (index + llave) % 26 ], end= \" \" )\n",
        "    print(\"\")\n",
        "#hasta aqui es tan solo para sacar el índice \n"
      ],
      "execution_count": null,
      "outputs": [
        {
          "output_type": "stream",
          "name": "stdout",
          "text": [
            "26\n",
            "e x e g e v \n",
            "f y f h f w \n",
            "g z g i g x \n",
            "h a h j h y \n",
            "i b i k i z \n",
            "j c j l j a \n",
            "k d k m k b \n",
            "l e l n l c \n",
            "m f m o m d \n",
            "n g n p n e \n",
            "o h o q o f \n",
            "p i p r p g \n",
            "q j q s q h \n",
            "r k r t r i \n",
            "s l s u s j \n",
            "t m t v t k \n",
            "u n u w u l \n",
            "v o v x v m \n",
            "w p w y w n \n",
            "x q x z x o \n",
            "y r y a y p \n",
            "z s z b z q \n",
            "a t a c a r \n",
            "b u b d b s \n",
            "c v c e c t \n"
          ]
        }
      ]
    },
    {
      "cell_type": "code",
      "metadata": {
        "id": "ozHOWQjpgDgT"
      },
      "source": [
        "# solamente decifrar (ENCRIPTADO esta mal dicho )\n",
        "\n",
        "cifrado = \"zg gzhv lpz vidhv v gv pidqzmndyvy ivxdjivg, kjm hd mvuv cvwgvmá zg znkímdop, mzqzgv gv qjxvxdói cphviínodxv xji gv lpz apz xjixzwdyv. zg vpojm yz znov xégzwmz amvnz, ejné qvnxjixzgjn, vnphdó gv mzxojmív zi 1920, zi piv ékjxv zi lpz gvn znkzmviuvn yz gv mzqjgpxdói vúi znovwvi qdqvn, cvwív piv bmvi aé zi gv kvomdv t zg áidhj mzyziojm nz zsoziyív zi zg vhwdzioz.\"\n",
        "alfabeto = \"abcdefghijklmnopqrstuvwxyz\"\n",
        "print(len(alfabeto))\n",
        "# llave ¿pasiciones de corrimiento?\n",
        "for llave in range(1, len(alfabeto)):\n",
        "    for i in range (len(cifrado)):\n",
        "        if (cifrado[i] in alfabeto ):\n",
        "            #print( alfabeto.index(cifrado[i]), end=\" \" )\n",
        "            index = alfabeto.index(cifrado [i] )\n",
        "            print( alfabeto[ (index + llave) % 26 ], end= \" \" )\n",
        "        else:\n",
        "            print(cifrado[i], end=\" \")\n",
        "    print(\"\")\n",
        "#hasta aqui es tan solo para sacar el índice \n",
        "\n"
      ],
      "execution_count": null,
      "outputs": []
    },
    {
      "cell_type": "markdown",
      "metadata": {
        "id": "xpnA3c0sjXgH"
      },
      "source": [
        "Tarea, con puro código eliminar las lineas que no dan el mensaje correcto (D:)"
      ]
    },
    {
      "cell_type": "code",
      "metadata": {
        "colab": {
          "base_uri": "https://localhost:8080/"
        },
        "id": "RJno-Hvob2yd",
        "outputId": "e95d67b3-a413-4059-b971-9a688dd04811"
      },
      "source": [
        "nombre = \"Unam\"\n",
        "print(nombre.index(\"a\"))"
      ],
      "execution_count": null,
      "outputs": [
        {
          "output_type": "stream",
          "name": "stdout",
          "text": [
            "2\n"
          ]
        }
      ]
    },
    {
      "cell_type": "markdown",
      "metadata": {
        "id": "B1eN7NWelMTM"
      },
      "source": [
        "buscar por fuerza bruta los puntos más cercanos entre si , dentro de un plano cartesiano."
      ]
    },
    {
      "cell_type": "code",
      "metadata": {
        "colab": {
          "base_uri": "https://localhost:8080/",
          "height": 282
        },
        "id": "CzWTyGzblSaM",
        "outputId": "bb07770c-47e7-4ecb-fc6c-f8ca3fc93bf8"
      },
      "source": [
        "from matplotlib import pyplot as plt\n",
        "import random\n",
        "\n",
        "pares = []\n",
        "for i in range(5):\n",
        "    pares.append( [ random.randint(1,100) , random.randint(1,100) ] )\n",
        "print(pares)\n",
        "\n",
        "for par in pares:\n",
        "    plt.plot( par[0],par[1] , \"bo\" )"
      ],
      "execution_count": null,
      "outputs": [
        {
          "output_type": "stream",
          "name": "stdout",
          "text": [
            "[[43, 3], [56, 94], [26, 93], [35, 44], [6, 8]]\n"
          ]
        },
        {
          "output_type": "display_data",
          "data": {
            "image/png": "[encoded data removed]",
            "text/plain": [
              "<Figure size 432x288 with 1 Axes>"
            ]
          },
          "metadata": {
            "needs_background": "light"
          }
        }
      ]
    }
  ]
}