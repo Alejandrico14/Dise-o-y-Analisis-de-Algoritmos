{
  "nbformat": 4,
  "nbformat_minor": 0,
  "metadata": {
    "colab": {
      "name": "palis.ipynb",
      "provenance": [],
      "authorship_tag": "ABX9TyOnvaltd2C0CHlB1UfbEOAJ",
      "include_colab_link": true
    },
    "kernelspec": {
      "name": "python3",
      "display_name": "Python 3"
    },
    "language_info": {
      "name": "python"
    }
  },
  "cells": [
    {
      "cell_type": "markdown",
      "metadata": {
        "id": "view-in-github",
        "colab_type": "text"
      },
      "source": [
        "<a href=\"https://colab.research.google.com/github/Alejandrico14/Dise-o-y-Analisis-de-Algoritmos/blob/main/palis.ipynb\" target=\"_parent\"><img src=\"https://colab.research.google.com/assets/colab-badge.svg\" alt=\"Open In Colab\"/></a>"
      ]
    },
    {
      "cell_type": "code",
      "metadata": {
        "id": "k3KsQO3hyA__"
      },
      "source": [
        "franja=[]\n",
        "def reloj():\n",
        "    minutos = int(0) \n",
        "    horas = int (0)\n",
        "    while(horas <=23 and minutos<=60): \n",
        "        hora = str(horas)\n",
        "        minuto = str(minutos)\n",
        "        hora_completa1 = hora.zfill(2)+\":\"+minuto.zfill(2)\n",
        "        minutos = minutos + 1 \n",
        "        if (minutos==60):\n",
        "            minutos=0 \n",
        "            horas = horas + 1\n",
        "            if (horas==24):\n",
        "                horas==\n",
        "        franja.append(hora_completa1)\n",
        "def palindromo():\n",
        "    reloj()\n",
        "    conteo = 0\n",
        "    for e in franja:\n",
        "        if e == e[::-1]:\n",
        "            print(str(e)+\" Es palindromo\")\n",
        "            conteo += 1\n",
        "    print(f\"Hay {conteo} palindromos\")\n",
        "palindromo()"
      ],
      "execution_count": null,
      "outputs": []
    }
  ]
}